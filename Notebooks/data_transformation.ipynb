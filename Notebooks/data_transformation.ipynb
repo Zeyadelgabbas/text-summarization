{
 "cells": [
  {
   "cell_type": "code",
   "execution_count": 1,
   "id": "fc02076d",
   "metadata": {},
   "outputs": [],
   "source": [
    "import os "
   ]
  },
  {
   "cell_type": "code",
   "execution_count": 2,
   "id": "3c4dfb50",
   "metadata": {},
   "outputs": [
    {
     "data": {
      "text/plain": [
       "'d:\\\\Aiprojects\\\\Textsummarization\\\\text-summarization\\\\Notebooks'"
      ]
     },
     "execution_count": 2,
     "metadata": {},
     "output_type": "execute_result"
    }
   ],
   "source": [
    "%pwd"
   ]
  },
  {
   "cell_type": "code",
   "execution_count": 3,
   "id": "637a3efe",
   "metadata": {},
   "outputs": [
    {
     "data": {
      "text/plain": [
       "'d:\\\\Aiprojects\\\\Textsummarization\\\\text-summarization'"
      ]
     },
     "execution_count": 3,
     "metadata": {},
     "output_type": "execute_result"
    }
   ],
   "source": [
    "os.chdir(\"../\")\n",
    "%pwd"
   ]
  },
  {
   "cell_type": "code",
   "execution_count": 4,
   "id": "89c31bd7",
   "metadata": {},
   "outputs": [],
   "source": [
    "import sys \n",
    "from dataclasses import dataclass\n",
    "from pathlib import Path\n",
    "\n",
    "@dataclass\n",
    "class DataTransformationConfig:\n",
    "     root_dir: Path\n",
    "     data_path: Path\n",
    "     tokenizer_name: str\n",
    "     transformed_path : Path"
   ]
  },
  {
   "cell_type": "code",
   "execution_count": 5,
   "id": "1ad76c7b",
   "metadata": {},
   "outputs": [],
   "source": [
    "from src.constants import *\n",
    "from src.utils import read_yaml ,create_directory"
   ]
  },
  {
   "cell_type": "code",
   "execution_count": 6,
   "id": "ffadcbc4",
   "metadata": {},
   "outputs": [],
   "source": [
    "class ConfigurationManager:\n",
    "    def __init__(self,config_path = CONFIG_FILE_PATH,params_path= PARAMS_FILE_PATH):\n",
    "        self.config = read_yaml(config_path)\n",
    "        self.params = read_yaml(params_path)\n",
    "        \n",
    "        \n",
    "\n",
    "    def get_data_transformation_config(self):\n",
    "        config = self.config.data_transformation\n",
    "\n",
    "        create_directory([config.root_dir])\n",
    "\n",
    "        data_transformation_config = DataTransformationConfig(\n",
    "            data_path = config.data_path,\n",
    "            root_dir = config.root_dir, \n",
    "            tokenizer_name=config.tokenizer_name,\n",
    "            transformed_path=config.transformed_path\n",
    "        )\n",
    "\n",
    "        return data_transformation_config\n"
   ]
  },
  {
   "cell_type": "code",
   "execution_count": 7,
   "id": "27e0c8b9",
   "metadata": {},
   "outputs": [
    {
     "name": "stderr",
     "output_type": "stream",
     "text": [
      "d:\\Aiprojects\\Textsummarization\\text-summarization\\venv\\Lib\\site-packages\\tqdm\\auto.py:21: TqdmWarning: IProgress not found. Please update jupyter and ipywidgets. See https://ipywidgets.readthedocs.io/en/stable/user_install.html\n",
      "  from .autonotebook import tqdm as notebook_tqdm\n"
     ]
    }
   ],
   "source": [
    "from transformers import AutoTokenizer\n",
    "from datasets import load_dataset , load_from_disk \n",
    "from src.logging.logger import get_logger\n",
    "import os \n",
    "import sys \n",
    "\n",
    "\n",
    "logging = get_logger(__name__)\n"
   ]
  },
  {
   "cell_type": "code",
   "execution_count": 12,
   "id": "4cfcb240",
   "metadata": {},
   "outputs": [],
   "source": [
    "class DataTransfomation:\n",
    "    def __init__(self,config: DataTransformationConfig):\n",
    "        self.config = config\n",
    "        self.tokenizer = AutoTokenizer.from_pretrained(config.tokenizer_name)\n",
    "\n",
    "\n",
    "    def tokenization(self,example_batch):\n",
    "        input_encodings = self.tokenizer(example_batch['dialogue'],max_length = 1000,truncation=True)\n",
    "\n",
    "        with self.tokenizer.as_target_tokenizer():\n",
    "            output_encodings = self.tokenizer(example_batch['summary'],max_length = 120 , truncation = True)\n",
    "\n",
    "\n",
    "        return {\n",
    "            'input_ids':input_encodings['input_ids'],\n",
    "            'attention_mask':input_encodings['attention_mask'],\n",
    "            'labels':output_encodings['input_ids']\n",
    "        }\n",
    "    \n",
    "\n",
    "    def apply_tokenization(self):\n",
    "\n",
    "        sam_data = load_from_disk(self.config.data_path)\n",
    "        logging.info(\"data loaded from disk for tokenization\")\n",
    "        sam_data_tk = sam_data.map(self.tokenization,batched=True)\n",
    "        logging.info(\"data tokenized\")\n",
    "        sam_data_tk.save_to_disk(self.config.transformed_path)\n",
    "        logging.info(\"transformed data saved\")\n",
    "    "
   ]
  },
  {
   "cell_type": "code",
   "execution_count": 13,
   "id": "6bdb2741",
   "metadata": {},
   "outputs": [],
   "source": [
    "from src.Exception import CustomException"
   ]
  },
  {
   "cell_type": "code",
   "execution_count": 14,
   "id": "cd9ea85d",
   "metadata": {},
   "outputs": [
    {
     "name": "stderr",
     "output_type": "stream",
     "text": [
      "Map: 100%|██████████| 14732/14732 [00:01<00:00, 9285.74 examples/s]\n",
      "Map: 100%|██████████| 819/819 [00:00<00:00, 7746.54 examples/s]\n",
      "Map: 100%|██████████| 818/818 [00:00<00:00, 8530.71 examples/s]\n",
      "Saving the dataset (1/1 shards): 100%|██████████| 14732/14732 [00:00<00:00, 552356.70 examples/s]\n",
      "Saving the dataset (1/1 shards): 100%|██████████| 819/819 [00:00<00:00, 119035.80 examples/s]\n",
      "Saving the dataset (1/1 shards): 100%|██████████| 818/818 [00:00<00:00, 114704.98 examples/s]\n"
     ]
    }
   ],
   "source": [
    "try: \n",
    "    config = ConfigurationManager()\n",
    "    data_transformation_config = config.get_data_transformation_config()\n",
    "    data_transformation = DataTransfomation(config=data_transformation_config)\n",
    "    data_transformation.apply_tokenization()\n",
    "    \n",
    "except Exception as e: \n",
    "    error = CustomException(e,sys)\n",
    "    logging.error(error)\n",
    "    raise error"
   ]
  },
  {
   "cell_type": "code",
   "execution_count": null,
   "id": "414130df",
   "metadata": {},
   "outputs": [],
   "source": []
  }
 ],
 "metadata": {
  "kernelspec": {
   "display_name": "Python 3",
   "language": "python",
   "name": "python3"
  },
  "language_info": {
   "codemirror_mode": {
    "name": "ipython",
    "version": 3
   },
   "file_extension": ".py",
   "mimetype": "text/x-python",
   "name": "python",
   "nbconvert_exporter": "python",
   "pygments_lexer": "ipython3",
   "version": "3.12.7"
  }
 },
 "nbformat": 4,
 "nbformat_minor": 5
}
