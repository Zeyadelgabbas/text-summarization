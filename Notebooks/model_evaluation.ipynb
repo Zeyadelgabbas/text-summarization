{
 "cells": [
  {
   "cell_type": "code",
   "execution_count": 1,
   "id": "4349f2d5",
   "metadata": {},
   "outputs": [],
   "source": [
    "import os"
   ]
  },
  {
   "cell_type": "code",
   "execution_count": 2,
   "id": "1c9f1d4c",
   "metadata": {},
   "outputs": [
    {
     "data": {
      "text/plain": [
       "'d:\\\\Aiprojects\\\\Textsummarization\\\\text-summarization\\\\Notebooks'"
      ]
     },
     "execution_count": 2,
     "metadata": {},
     "output_type": "execute_result"
    }
   ],
   "source": [
    "%pwd"
   ]
  },
  {
   "cell_type": "code",
   "execution_count": 3,
   "id": "cf1bf6b2",
   "metadata": {},
   "outputs": [
    {
     "data": {
      "text/plain": [
       "'d:\\\\Aiprojects\\\\Textsummarization\\\\text-summarization'"
      ]
     },
     "execution_count": 3,
     "metadata": {},
     "output_type": "execute_result"
    }
   ],
   "source": [
    "os.chdir(\"../\")\n",
    "%pwd"
   ]
  },
  {
   "cell_type": "code",
   "execution_count": 4,
   "id": "fe88fd7f",
   "metadata": {},
   "outputs": [],
   "source": [
    "from dataclasses import dataclass\n",
    "from pathlib import Path\n",
    "@dataclass\n",
    "class ModelEvaluationConfig:\n",
    "\n",
    "    model_path: Path\n",
    "    data_path: Path\n",
    "    root_dir: Path\n",
    "    tokenizer_path: Path\n",
    "    metric_filename: Path\n"
   ]
  },
  {
   "cell_type": "code",
   "execution_count": 5,
   "id": "83db58e2",
   "metadata": {},
   "outputs": [],
   "source": [
    "from src.constants import * \n",
    "from src.utils import read_yaml , create_directory"
   ]
  },
  {
   "cell_type": "code",
   "execution_count": 6,
   "id": "0be6942a",
   "metadata": {},
   "outputs": [],
   "source": [
    "class ConfigurationManager:\n",
    "    def __init__(self,config_filepath = CONFIG_FILE_PATH , params_filepath = PARAMS_FILE_PATH):\n",
    "        self.config = read_yaml(config_filepath)\n",
    "        self.params = read_yaml(params_filepath)\n",
    "        create_directory([self.config.artifacts_root])\n",
    "    def get_evaluation_config(self) ->ModelEvaluationConfig:\n",
    "        config = self.config.model_evaluation\n",
    "        create_directory([config.root_dir])\n",
    "\n",
    "        model_evaluation_config = ModelEvaluationConfig(\n",
    "            model_path=config.model_path,\n",
    "            data_path=config.data_path,\n",
    "            root_dir=config.root_dir,\n",
    "            tokenizer_path=config.tokenizer_path,\n",
    "            metric_filename=config.metric_filename\n",
    "        )\n",
    "        return model_evaluation_config\n"
   ]
  },
  {
   "cell_type": "code",
   "execution_count": 7,
   "id": "bf62d4d8",
   "metadata": {},
   "outputs": [
    {
     "name": "stdout",
     "output_type": "stream",
     "text": [
      "Requirement already satisfied: evaluate in d:\\aiprojects\\textsummarization\\text-summarization\\venv\\lib\\site-packages (0.4.6)\n",
      "Requirement already satisfied: datasets>=2.0.0 in d:\\aiprojects\\textsummarization\\text-summarization\\venv\\lib\\site-packages (from evaluate) (4.1.1)\n",
      "Requirement already satisfied: numpy>=1.17 in d:\\aiprojects\\textsummarization\\text-summarization\\venv\\lib\\site-packages (from evaluate) (2.1.2)\n",
      "Requirement already satisfied: dill in d:\\aiprojects\\textsummarization\\text-summarization\\venv\\lib\\site-packages (from evaluate) (0.4.0)\n",
      "Requirement already satisfied: pandas in d:\\aiprojects\\textsummarization\\text-summarization\\venv\\lib\\site-packages (from evaluate) (2.3.2)\n",
      "Requirement already satisfied: requests>=2.19.0 in d:\\aiprojects\\textsummarization\\text-summarization\\venv\\lib\\site-packages (from evaluate) (2.32.5)\n",
      "Requirement already satisfied: tqdm>=4.62.1 in d:\\aiprojects\\textsummarization\\text-summarization\\venv\\lib\\site-packages (from evaluate) (4.67.1)\n",
      "Requirement already satisfied: xxhash in d:\\aiprojects\\textsummarization\\text-summarization\\venv\\lib\\site-packages (from evaluate) (3.5.0)\n",
      "Requirement already satisfied: multiprocess in d:\\aiprojects\\textsummarization\\text-summarization\\venv\\lib\\site-packages (from evaluate) (0.70.16)\n",
      "Requirement already satisfied: fsspec>=2021.05.0 in d:\\aiprojects\\textsummarization\\text-summarization\\venv\\lib\\site-packages (from fsspec[http]>=2021.05.0->evaluate) (2024.6.1)\n",
      "Requirement already satisfied: huggingface-hub>=0.7.0 in d:\\aiprojects\\textsummarization\\text-summarization\\venv\\lib\\site-packages (from evaluate) (0.35.1)\n",
      "Requirement already satisfied: packaging in d:\\aiprojects\\textsummarization\\text-summarization\\venv\\lib\\site-packages (from evaluate) (25.0)\n",
      "Requirement already satisfied: filelock in d:\\aiprojects\\textsummarization\\text-summarization\\venv\\lib\\site-packages (from datasets>=2.0.0->evaluate) (3.13.1)\n",
      "Requirement already satisfied: pyarrow>=21.0.0 in d:\\aiprojects\\textsummarization\\text-summarization\\venv\\lib\\site-packages (from datasets>=2.0.0->evaluate) (21.0.0)\n",
      "Requirement already satisfied: pyyaml>=5.1 in d:\\aiprojects\\textsummarization\\text-summarization\\venv\\lib\\site-packages (from datasets>=2.0.0->evaluate) (6.0.2)\n",
      "Requirement already satisfied: aiohttp!=4.0.0a0,!=4.0.0a1 in d:\\aiprojects\\textsummarization\\text-summarization\\venv\\lib\\site-packages (from fsspec[http]>=2021.05.0->evaluate) (3.12.15)\n",
      "Requirement already satisfied: aiohappyeyeballs>=2.5.0 in d:\\aiprojects\\textsummarization\\text-summarization\\venv\\lib\\site-packages (from aiohttp!=4.0.0a0,!=4.0.0a1->fsspec[http]>=2021.05.0->evaluate) (2.6.1)\n",
      "Requirement already satisfied: aiosignal>=1.4.0 in d:\\aiprojects\\textsummarization\\text-summarization\\venv\\lib\\site-packages (from aiohttp!=4.0.0a0,!=4.0.0a1->fsspec[http]>=2021.05.0->evaluate) (1.4.0)\n",
      "Requirement already satisfied: attrs>=17.3.0 in d:\\aiprojects\\textsummarization\\text-summarization\\venv\\lib\\site-packages (from aiohttp!=4.0.0a0,!=4.0.0a1->fsspec[http]>=2021.05.0->evaluate) (25.3.0)\n",
      "Requirement already satisfied: frozenlist>=1.1.1 in d:\\aiprojects\\textsummarization\\text-summarization\\venv\\lib\\site-packages (from aiohttp!=4.0.0a0,!=4.0.0a1->fsspec[http]>=2021.05.0->evaluate) (1.7.0)\n",
      "Requirement already satisfied: multidict<7.0,>=4.5 in d:\\aiprojects\\textsummarization\\text-summarization\\venv\\lib\\site-packages (from aiohttp!=4.0.0a0,!=4.0.0a1->fsspec[http]>=2021.05.0->evaluate) (6.6.4)\n",
      "Requirement already satisfied: propcache>=0.2.0 in d:\\aiprojects\\textsummarization\\text-summarization\\venv\\lib\\site-packages (from aiohttp!=4.0.0a0,!=4.0.0a1->fsspec[http]>=2021.05.0->evaluate) (0.3.2)\n",
      "Requirement already satisfied: yarl<2.0,>=1.17.0 in d:\\aiprojects\\textsummarization\\text-summarization\\venv\\lib\\site-packages (from aiohttp!=4.0.0a0,!=4.0.0a1->fsspec[http]>=2021.05.0->evaluate) (1.20.1)\n",
      "Requirement already satisfied: idna>=2.0 in d:\\aiprojects\\textsummarization\\text-summarization\\venv\\lib\\site-packages (from yarl<2.0,>=1.17.0->aiohttp!=4.0.0a0,!=4.0.0a1->fsspec[http]>=2021.05.0->evaluate) (3.10)\n",
      "Requirement already satisfied: typing-extensions>=4.2 in d:\\aiprojects\\textsummarization\\text-summarization\\venv\\lib\\site-packages (from aiosignal>=1.4.0->aiohttp!=4.0.0a0,!=4.0.0a1->fsspec[http]>=2021.05.0->evaluate) (4.15.0)\n",
      "Requirement already satisfied: charset_normalizer<4,>=2 in d:\\aiprojects\\textsummarization\\text-summarization\\venv\\lib\\site-packages (from requests>=2.19.0->evaluate) (3.4.3)\n",
      "Requirement already satisfied: urllib3<3,>=1.21.1 in d:\\aiprojects\\textsummarization\\text-summarization\\venv\\lib\\site-packages (from requests>=2.19.0->evaluate) (2.5.0)\n",
      "Requirement already satisfied: certifi>=2017.4.17 in d:\\aiprojects\\textsummarization\\text-summarization\\venv\\lib\\site-packages (from requests>=2.19.0->evaluate) (2025.8.3)\n",
      "Requirement already satisfied: colorama in d:\\aiprojects\\textsummarization\\text-summarization\\venv\\lib\\site-packages (from tqdm>=4.62.1->evaluate) (0.4.6)\n",
      "Requirement already satisfied: python-dateutil>=2.8.2 in d:\\aiprojects\\textsummarization\\text-summarization\\venv\\lib\\site-packages (from pandas->evaluate) (2.8.2)\n",
      "Requirement already satisfied: pytz>=2020.1 in d:\\aiprojects\\textsummarization\\text-summarization\\venv\\lib\\site-packages (from pandas->evaluate) (2025.2)\n",
      "Requirement already satisfied: tzdata>=2022.7 in d:\\aiprojects\\textsummarization\\text-summarization\\venv\\lib\\site-packages (from pandas->evaluate) (2025.2)\n",
      "Requirement already satisfied: six>=1.5 in d:\\aiprojects\\textsummarization\\text-summarization\\venv\\lib\\site-packages (from python-dateutil>=2.8.2->pandas->evaluate) (1.17.0)\n"
     ]
    }
   ],
   "source": [
    "!pip install evaluate"
   ]
  },
  {
   "cell_type": "code",
   "execution_count": 8,
   "id": "48796540",
   "metadata": {},
   "outputs": [
    {
     "name": "stderr",
     "output_type": "stream",
     "text": [
      "d:\\Aiprojects\\Textsummarization\\text-summarization\\venv\\Lib\\site-packages\\tqdm\\auto.py:21: TqdmWarning: IProgress not found. Please update jupyter and ipywidgets. See https://ipywidgets.readthedocs.io/en/stable/user_install.html\n",
      "  from .autonotebook import tqdm as notebook_tqdm\n"
     ]
    }
   ],
   "source": [
    "import torch\n",
    "import sys \n",
    "from datasets import load_from_disk,load_dataset\n",
    "import evaluate\n",
    "from transformers import AutoTokenizer , AutoModelForSeq2SeqLM\n",
    "import pandas as pd\n",
    "from tqdm import tqdm\n"
   ]
  },
  {
   "cell_type": "code",
   "execution_count": null,
   "id": "4b0b5dff",
   "metadata": {},
   "outputs": [],
   "source": [
    "class ModelEvaluation:\n",
    "    \n",
    "    def __init__(self,config:ModelEvaluationConfig):\n",
    "        self.config = config\n",
    "\n",
    "\n",
    "    def generate_batch_chuncks(self,full_data,batch_size):\n",
    "\n",
    "        for i in range(0,len(full_data),batch_size):\n",
    "            yield full_data[i:i+batch_size]\n",
    "\n",
    "\n",
    "    def calculate_metrics_test(self,dataset,metric,tokenizer,model, input_name, target_name,device ,batch_size = 16 ):\n",
    "\n",
    "        \n",
    "        input_batches = list(self.generate_batch_chuncks(dataset[input_name],batch_size))\n",
    "        target_batches = list(self.generate_batch_chuncks(dataclass[target_name],batch_size))\n",
    "\n",
    "        for input_batch , target_batch in tqdm(zip(input_batches,target_batches),total=len(input_batches)):\n",
    "            inputs = tokenizer(input_batch, max_length=1024, truncation=True, \n",
    "                   padding=\"max_length\", return_tensors=\"pt\")\n",
    "            \n",
    "            summary = model.generate(input_ids=inputs[\"input_ids\"].to(device),\n",
    "                           attention_mask=inputs[\"attention_mask\"].to(device), \n",
    "                           length_penalty=0.8, num_beams=8, max_length=128)\n",
    "            \n",
    "            decoded_summary = [tokenizer.decode(s, skip_special_tokens=True, \n",
    "                                      clean_up_tokenization_spaces=True) \n",
    "                     for s in summary]      \n",
    "            decoded_summary = [d.replace(\"\", \" \") for d in decoded_summary]\n",
    "\n",
    "            metric.add_batch(predictions=decoded_summary, references=target_batch)\n",
    "        \n",
    "        final_score = metric.compute()\n",
    "        return final_score\n",
    "    \n",
    "    def evaluate(self):\n",
    "\n",
    "        device = 'cuda' if torch.cuda.is_available() else 'cpu'\n",
    "        tokenizer = AutoTokenizer.from_pretrained(self.config.tokenizer_path)\n",
    "        model = AutoModelForSeq2SeqLM.from_pretrained(self.config.model_path).to(device)\n",
    "        rouge = evaluate.load(\"rouge\")\n",
    "        \n",
    "        dataset_pt = load_from_disk(self.config.data_path)\n",
    "        input_name = 'dialogue'\n",
    "        target_name = 'summary'\n",
    "\n",
    "        scores = self.calculate_metrics_test(\n",
    "            dataset=dataset_pt['test'][0:300] , metric = rouge , tokenizer=tokenizer , \n",
    "            model=model,input_name = input_name,target_name = target_name ,device  = device \n",
    "        )\n",
    "\n",
    "        rouge_metrics = ['rouge1','rouge2','rougeL','rougeLsum']\n",
    "\n",
    "        rouge_dict = dict((metric, scores[metric].mid.fmeasure ) for metric in rouge_metrics )\n",
    "\n",
    "        df = pd.DataFrame(rouge_dict, index = ['pegasus'] )\n",
    "        df.to_csv(self.config.metric_filename, index=False)\n",
    "\n",
    "        \n",
    "        "
   ]
  },
  {
   "cell_type": "code",
   "execution_count": 10,
   "id": "36b89c91",
   "metadata": {},
   "outputs": [
    {
     "ename": "AttributeError",
     "evalue": "BartTokenizerFast has no attribute to",
     "output_type": "error",
     "traceback": [
      "\u001b[31m---------------------------------------------------------------------------\u001b[39m",
      "\u001b[31mAttributeError\u001b[39m                            Traceback (most recent call last)",
      "\u001b[36mCell\u001b[39m\u001b[36m \u001b[39m\u001b[32mIn[10]\u001b[39m\u001b[32m, line 4\u001b[39m\n\u001b[32m      2\u001b[39m model_evaluation_config = config.get_evaluation_config()\n\u001b[32m      3\u001b[39m model_evaluation = ModelEvaluation(config=model_evaluation_config)\n\u001b[32m----> \u001b[39m\u001b[32m4\u001b[39m \u001b[43mmodel_evaluation\u001b[49m\u001b[43m.\u001b[49m\u001b[43mevaluate\u001b[49m\u001b[43m(\u001b[49m\u001b[43m)\u001b[49m\n",
      "\u001b[36mCell\u001b[39m\u001b[36m \u001b[39m\u001b[32mIn[9]\u001b[39m\u001b[32m, line 40\u001b[39m, in \u001b[36mModelEvaluation.evaluate\u001b[39m\u001b[34m(self)\u001b[39m\n\u001b[32m     37\u001b[39m \u001b[38;5;28;01mdef\u001b[39;00m\u001b[38;5;250m \u001b[39m\u001b[34mevaluate\u001b[39m(\u001b[38;5;28mself\u001b[39m):\n\u001b[32m     39\u001b[39m     device = \u001b[33m'\u001b[39m\u001b[33mcuda\u001b[39m\u001b[33m'\u001b[39m \u001b[38;5;28;01mif\u001b[39;00m torch.cuda.is_available() \u001b[38;5;28;01melse\u001b[39;00m \u001b[33m'\u001b[39m\u001b[33mcpu\u001b[39m\u001b[33m'\u001b[39m\n\u001b[32m---> \u001b[39m\u001b[32m40\u001b[39m     tokenizer = \u001b[43mAutoTokenizer\u001b[49m\u001b[43m.\u001b[49m\u001b[43mfrom_pretrained\u001b[49m\u001b[43m(\u001b[49m\u001b[38;5;28;43mself\u001b[39;49m\u001b[43m.\u001b[49m\u001b[43mconfig\u001b[49m\u001b[43m.\u001b[49m\u001b[43mtokenizer_path\u001b[49m\u001b[43m)\u001b[49m\u001b[43m.\u001b[49m\u001b[43mto\u001b[49m(device)\n\u001b[32m     41\u001b[39m     model = AutoModelForSeq2SeqLM.from_pretrained(\u001b[38;5;28mself\u001b[39m.config.model_path).to(device)\n\u001b[32m     42\u001b[39m     rouge = evaluate.load(\u001b[33m\"\u001b[39m\u001b[33mrouge\u001b[39m\u001b[33m\"\u001b[39m)\n",
      "\u001b[36mFile \u001b[39m\u001b[32md:\\Aiprojects\\Textsummarization\\text-summarization\\venv\\Lib\\site-packages\\transformers\\tokenization_utils_base.py:1099\u001b[39m, in \u001b[36mSpecialTokensMixin.__getattr__\u001b[39m\u001b[34m(self, key)\u001b[39m\n\u001b[32m   1096\u001b[39m         \u001b[38;5;28;01mreturn\u001b[39;00m \u001b[38;5;28mself\u001b[39m.convert_tokens_to_ids(attr_as_tokens) \u001b[38;5;28;01mif\u001b[39;00m attr_as_tokens \u001b[38;5;129;01mis\u001b[39;00m \u001b[38;5;129;01mnot\u001b[39;00m \u001b[38;5;28;01mNone\u001b[39;00m \u001b[38;5;28;01melse\u001b[39;00m \u001b[38;5;28;01mNone\u001b[39;00m\n\u001b[32m   1098\u001b[39m \u001b[38;5;28;01mif\u001b[39;00m key \u001b[38;5;129;01mnot\u001b[39;00m \u001b[38;5;129;01min\u001b[39;00m \u001b[38;5;28mself\u001b[39m.\u001b[34m__dict__\u001b[39m:\n\u001b[32m-> \u001b[39m\u001b[32m1099\u001b[39m     \u001b[38;5;28;01mraise\u001b[39;00m \u001b[38;5;167;01mAttributeError\u001b[39;00m(\u001b[33mf\u001b[39m\u001b[33m\"\u001b[39m\u001b[38;5;132;01m{\u001b[39;00m\u001b[38;5;28mself\u001b[39m.\u001b[34m__class__\u001b[39m.\u001b[34m__name__\u001b[39m\u001b[38;5;132;01m}\u001b[39;00m\u001b[33m has no attribute \u001b[39m\u001b[38;5;132;01m{\u001b[39;00mkey\u001b[38;5;132;01m}\u001b[39;00m\u001b[33m\"\u001b[39m)\n\u001b[32m   1100\u001b[39m \u001b[38;5;28;01melse\u001b[39;00m:\n\u001b[32m   1101\u001b[39m     \u001b[38;5;28;01mreturn\u001b[39;00m \u001b[38;5;28msuper\u001b[39m().\u001b[34m__getattr__\u001b[39m(key)\n",
      "\u001b[31mAttributeError\u001b[39m: BartTokenizerFast has no attribute to"
     ]
    }
   ],
   "source": [
    "\n",
    "    config = ConfigurationManager()\n",
    "    model_evaluation_config = config.get_evaluation_config()\n",
    "    model_evaluation = ModelEvaluation(config=model_evaluation_config)\n",
    "    model_evaluation.evaluate()\n",
    "\n"
   ]
  },
  {
   "cell_type": "code",
   "execution_count": null,
   "id": "72af2527",
   "metadata": {},
   "outputs": [],
   "source": []
  }
 ],
 "metadata": {
  "kernelspec": {
   "display_name": "Python 3",
   "language": "python",
   "name": "python3"
  },
  "language_info": {
   "codemirror_mode": {
    "name": "ipython",
    "version": 3
   },
   "file_extension": ".py",
   "mimetype": "text/x-python",
   "name": "python",
   "nbconvert_exporter": "python",
   "pygments_lexer": "ipython3",
   "version": "3.12.7"
  }
 },
 "nbformat": 4,
 "nbformat_minor": 5
}
