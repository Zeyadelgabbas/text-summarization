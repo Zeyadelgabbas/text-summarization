{
 "cells": [
  {
   "cell_type": "code",
   "execution_count": 2,
   "id": "a53e762f",
   "metadata": {},
   "outputs": [],
   "source": [
    "import torch \n",
    "import pandas as pd\n",
    "import numpy as np \n"
   ]
  },
  {
   "cell_type": "code",
   "execution_count": 3,
   "id": "5f2bf34b",
   "metadata": {},
   "outputs": [
    {
     "data": {
      "text/plain": [
       "'cuda'"
      ]
     },
     "execution_count": 3,
     "metadata": {},
     "output_type": "execute_result"
    }
   ],
   "source": [
    "device = 'cuda' if torch.cuda.is_available() else \"cpu\"\n",
    "device"
   ]
  },
  {
   "cell_type": "code",
   "execution_count": 4,
   "id": "b72c6bc3",
   "metadata": {},
   "outputs": [
    {
     "name": "stderr",
     "output_type": "stream",
     "text": [
      "d:\\Aiprojects\\Textsummarization\\text-summarization\\venv\\Lib\\site-packages\\huggingface_hub\\file_download.py:143: UserWarning: `huggingface_hub` cache-system uses symlinks by default to efficiently store duplicated files but your machine does not support them in C:\\Users\\LOQ\\.cache\\huggingface\\hub\\models--google--pegasus-cnn_dailymail. Caching files will still work but in a degraded version that might require more space on your disk. This warning can be disabled by setting the `HF_HUB_DISABLE_SYMLINKS_WARNING` environment variable. For more details, see https://huggingface.co/docs/huggingface_hub/how-to-cache#limitations.\n",
      "To support symlinks on Windows, you either need to activate Developer Mode or to run Python as an administrator. In order to activate developer mode, see this article: https://docs.microsoft.com/en-us/windows/apps/get-started/enable-your-device-for-development\n",
      "  warnings.warn(message)\n",
      "Xet Storage is enabled for this repo, but the 'hf_xet' package is not installed. Falling back to regular HTTP download. For better performance, install the package with: `pip install huggingface_hub[hf_xet]` or `pip install hf_xet`\n",
      "Xet Storage is enabled for this repo, but the 'hf_xet' package is not installed. Falling back to regular HTTP download. For better performance, install the package with: `pip install huggingface_hub[hf_xet]` or `pip install hf_xet`\n",
      "Some weights of PegasusForConditionalGeneration were not initialized from the model checkpoint at google/pegasus-cnn_dailymail and are newly initialized: ['model.decoder.embed_positions.weight', 'model.encoder.embed_positions.weight']\n",
      "You should probably TRAIN this model on a down-stream task to be able to use it for predictions and inference.\n"
     ]
    }
   ],
   "source": [
    "from transformers import AutoTokenizer   , AutoModelForSeq2SeqLM\n",
    "\n",
    "model_ = 'google/pegasus-cnn_dailymail'\n",
    "\n",
    "tokenizer = AutoTokenizer.from_pretrained(model_)\n",
    "model_pegasus = AutoModelForSeq2SeqLM.from_pretrained(model_).to(device)"
   ]
  },
  {
   "cell_type": "code",
   "execution_count": 13,
   "id": "27c2121b",
   "metadata": {},
   "outputs": [],
   "source": [
    "import pandas as pd\n",
    "\n",
    "splits = {'train': 'train.json', 'validation': 'val.json', 'test': 'test.json'}\n",
    "df_train= pd.read_json(\"hf://datasets/nyamuda/samsum/\" + splits[\"train\"])\n",
    "df_val= pd.read_json(\"hf://datasets/nyamuda/samsum/\" + splits[\"validation\"])\n",
    "df_test= pd.read_json(\"hf://datasets/nyamuda/samsum/\" + splits[\"test\"])\n",
    "\n"
   ]
  },
  {
   "cell_type": "code",
   "execution_count": 14,
   "id": "72798c1f",
   "metadata": {},
   "outputs": [],
   "source": [
    "df_train= df_train.drop(columns='id')\n",
    "df_val = df_val.drop(columns='id')\n",
    "df_test= df_test.drop(columns='id')"
   ]
  },
  {
   "cell_type": "code",
   "execution_count": 21,
   "id": "134616eb",
   "metadata": {},
   "outputs": [],
   "source": [
    "from datasets import load_dataset\n",
    "\n",
    "ds = load_dataset(\"nyamuda/samsum\")"
   ]
  },
  {
   "cell_type": "code",
   "execution_count": 22,
   "id": "8bde2487",
   "metadata": {},
   "outputs": [
    {
     "name": "stdout",
     "output_type": "stream",
     "text": [
      "DatasetDict({\n",
      "    train: Dataset({\n",
      "        features: ['id', 'summary', 'dialogue'],\n",
      "        num_rows: 14732\n",
      "    })\n",
      "    validation: Dataset({\n",
      "        features: ['id', 'summary', 'dialogue'],\n",
      "        num_rows: 818\n",
      "    })\n",
      "    test: Dataset({\n",
      "        features: ['id', 'summary', 'dialogue'],\n",
      "        num_rows: 819\n",
      "    })\n",
      "})\n"
     ]
    }
   ],
   "source": [
    "print(ds)"
   ]
  },
  {
   "cell_type": "code",
   "execution_count": 23,
   "id": "bd1c4856",
   "metadata": {},
   "outputs": [],
   "source": [
    "def tokenization(example):\n",
    "    input_encoding = tokenizer(example['dialogue'],max_length=1000,truncation=True)\n",
    "\n",
    "    with tokenizer.as_target_tokenizer():\n",
    "        output_encoding = tokenizer(example['summary'],max_length=150,truncation=True)\n",
    "\n",
    "    return {'input_ids':input_encoding['input_ids'],\n",
    "            'attention_mask':input_encoding['attention_mask'],\n",
    "            'output_ids' :output_encoding['input_ids']\n",
    "            }"
   ]
  },
  {
   "cell_type": "code",
   "execution_count": 24,
   "id": "ac7eb523",
   "metadata": {},
   "outputs": [
    {
     "name": "stderr",
     "output_type": "stream",
     "text": [
      "Map:   0%|          | 0/14732 [00:00<?, ? examples/s]"
     ]
    },
    {
     "name": "stderr",
     "output_type": "stream",
     "text": [
      "d:\\Aiprojects\\Textsummarization\\text-summarization\\venv\\Lib\\site-packages\\transformers\\tokenization_utils_base.py:4007: UserWarning: `as_target_tokenizer` is deprecated and will be removed in v5 of Transformers. You can tokenize your labels by using the argument `text_target` of the regular `__call__` method (either in the same call as your input texts if you use the same keyword arguments, or in a separate call.\n",
      "  warnings.warn(\n",
      "Map: 100%|██████████| 14732/14732 [00:02<00:00, 5471.56 examples/s]\n",
      "Map: 100%|██████████| 818/818 [00:00<00:00, 6612.17 examples/s]\n",
      "Map: 100%|██████████| 819/819 [00:00<00:00, 5428.07 examples/s]\n"
     ]
    }
   ],
   "source": [
    "ds=ds.map(tokenization,batched=True)"
   ]
  },
  {
   "cell_type": "code",
   "execution_count": 25,
   "id": "b77e7969",
   "metadata": {},
   "outputs": [
    {
     "data": {
      "text/plain": [
       "DatasetDict({\n",
       "    train: Dataset({\n",
       "        features: ['id', 'summary', 'dialogue', 'input_ids', 'attention_mask', 'output_ids'],\n",
       "        num_rows: 14732\n",
       "    })\n",
       "    validation: Dataset({\n",
       "        features: ['id', 'summary', 'dialogue', 'input_ids', 'attention_mask', 'output_ids'],\n",
       "        num_rows: 818\n",
       "    })\n",
       "    test: Dataset({\n",
       "        features: ['id', 'summary', 'dialogue', 'input_ids', 'attention_mask', 'output_ids'],\n",
       "        num_rows: 819\n",
       "    })\n",
       "})"
      ]
     },
     "execution_count": 25,
     "metadata": {},
     "output_type": "execute_result"
    }
   ],
   "source": [
    "ds"
   ]
  },
  {
   "cell_type": "code",
   "execution_count": null,
   "id": "91d37978",
   "metadata": {},
   "outputs": [],
   "source": []
  }
 ],
 "metadata": {
  "kernelspec": {
   "display_name": "Python 3",
   "language": "python",
   "name": "python3"
  },
  "language_info": {
   "codemirror_mode": {
    "name": "ipython",
    "version": 3
   },
   "file_extension": ".py",
   "mimetype": "text/x-python",
   "name": "python",
   "nbconvert_exporter": "python",
   "pygments_lexer": "ipython3",
   "version": "3.12.7"
  }
 },
 "nbformat": 4,
 "nbformat_minor": 5
}
